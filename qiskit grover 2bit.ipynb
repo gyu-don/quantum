{
 "cells": [
  {
   "cell_type": "code",
   "execution_count": 1,
   "metadata": {
    "collapsed": true
   },
   "outputs": [],
   "source": [
    "import qiskit"
   ]
  },
  {
   "cell_type": "code",
   "execution_count": 2,
   "metadata": {},
   "outputs": [
    {
     "data": {
      "text/plain": [
       "<qiskit._measure.Measure at 0x7ff39e9d1358>"
      ]
     },
     "execution_count": 2,
     "metadata": {},
     "output_type": "execute_result"
    }
   ],
   "source": [
    "# Make QuantumProgram\n",
    "qp = qiskit.QuantumProgram()\n",
    "\n",
    "# Make registers. (2bit)\n",
    "qr = qp.create_quantum_register('qr', 2)\n",
    "cr = qp.create_classical_register('cr', 2)\n",
    "# Make circuit.\n",
    "qc = qp.create_circuit('grover', [qr], [cr])\n",
    "# H-gate: h, CNOT-gate: cx\n",
    "qc.h(qr[0])\n",
    "qc.h(qr[1])\n",
    "qc.h(qr[0])\n",
    "qc.cx(qr[1], qr[0])\n",
    "qc.h(qr[0])\n",
    "qc.h(qr[0])\n",
    "qc.h(qr[1])\n",
    "qc.x(qr[0])\n",
    "qc.x(qr[1])\n",
    "qc.h(qr[0])\n",
    "qc.cx(qr[1], qr[0])\n",
    "qc.h(qr[0])\n",
    "qc.x(qr[0])\n",
    "qc.x(qr[1])\n",
    "qc.h(qr[0])\n",
    "qc.h(qr[1])\n",
    "# Measurement: measure\n",
    "qc.measure(qr[1], cr[1])\n",
    "qc.measure(qr[0], cr[0])"
   ]
  },
  {
   "cell_type": "code",
   "execution_count": 3,
   "metadata": {},
   "outputs": [
    {
     "data": {
      "text/plain": [
       "{'11': 1024}"
      ]
     },
     "execution_count": 3,
     "metadata": {},
     "output_type": "execute_result"
    }
   ],
   "source": [
    "# Use local simulator.\n",
    "result = qp.execute(['grover'], backend='local_qasm_simulator')\n",
    "result.get_counts('grover')"
   ]
  },
  {
   "cell_type": "code",
   "execution_count": 6,
   "metadata": {
    "collapsed": true
   },
   "outputs": [],
   "source": [
    "# API token and URL\n",
    "api_token = open('api_token.txt').read().strip()\n",
    "url = 'https://quantumexperience.ng.bluemix.net/api'"
   ]
  },
  {
   "cell_type": "code",
   "execution_count": 7,
   "metadata": {},
   "outputs": [],
   "source": [
    "qp.set_api(api_token, url)"
   ]
  },
  {
   "cell_type": "code",
   "execution_count": 8,
   "metadata": {},
   "outputs": [
    {
     "data": {
      "text/plain": [
       "['ibmqx5',\n",
       " 'ibmqx4',\n",
       " 'ibmqx_hpc_qasm_simulator',\n",
       " 'ibmqx2',\n",
       " 'ibmqx_qasm_simulator',\n",
       " 'local_qasm_simulator',\n",
       " 'local_unitary_simulator']"
      ]
     },
     "execution_count": 8,
     "metadata": {},
     "output_type": "execute_result"
    }
   ],
   "source": [
    "qp.available_backends()"
   ]
  },
  {
   "cell_type": "code",
   "execution_count": 9,
   "metadata": {},
   "outputs": [
    {
     "data": {
      "text/plain": [
       "{'00000': 11, '00001': 79, '00010': 95, '00011': 839}"
      ]
     },
     "execution_count": 9,
     "metadata": {},
     "output_type": "execute_result"
    }
   ],
   "source": [
    "# Use quantum computer.\n",
    "result = qp.execute(['grover'], backend='ibmqx4')\n",
    "result.get_counts('grover')"
   ]
  },
  {
   "cell_type": "code",
   "execution_count": 10,
   "metadata": {},
   "outputs": [
    {
     "data": {
      "text/plain": [
       "{'config': {'group': None,\n",
       "  'hub': None,\n",
       "  'project': None,\n",
       "  'url': 'https://quantumexperience.ng.bluemix.net/api'},\n",
       " 'token': '4d0bcd759a6656e695d5630d1dd426371e418cac4f5701966a9388ee42f08bcaf8cd54db13037b504508ac386d28a9b5e42245622915b98fda36b3f5c655afac',\n",
       " 'url': {'url': 'https://quantumexperience.ng.bluemix.net/api'}}"
      ]
     },
     "execution_count": 10,
     "metadata": {},
     "output_type": "execute_result"
    }
   ],
   "source": [
    "qp.get_api_config()"
   ]
  },
  {
   "cell_type": "code",
   "execution_count": null,
   "metadata": {
    "collapsed": true
   },
   "outputs": [],
   "source": []
  }
 ],
 "metadata": {
  "kernelspec": {
   "display_name": "Python 3",
   "language": "python",
   "name": "python3"
  },
  "language_info": {
   "codemirror_mode": {
    "name": "ipython",
    "version": 3
   },
   "file_extension": ".py",
   "mimetype": "text/x-python",
   "name": "python",
   "nbconvert_exporter": "python",
   "pygments_lexer": "ipython3",
   "version": "3.6.4"
  }
 },
 "nbformat": 4,
 "nbformat_minor": 2
}
